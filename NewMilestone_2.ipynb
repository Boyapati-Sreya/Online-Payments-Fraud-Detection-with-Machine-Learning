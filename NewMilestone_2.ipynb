{
 "cells": [
  {
   "cell_type": "markdown",
   "id": "2e148f46-2493-4805-b197-ee8ddde958e3",
   "metadata": {},
   "source": [
    "# Milestone_2"
   ]
  },
  {
   "cell_type": "markdown",
   "id": "11670554-2a48-40dc-94ec-756e6ec0e7c6",
   "metadata": {},
   "source": [
    "## Week 3: \n",
    "### 1.Read the Dataset from Amazon S3 Bucket/ load the dataset from previously saved"
   ]
  },
  {
   "cell_type": "code",
   "execution_count": 30,
   "id": "68e9a25d-0b9c-41d7-a524-4de9bf47e14e",
   "metadata": {},
   "outputs": [
    {
     "data": {
      "text/html": [
       "<div>\n",
       "<style scoped>\n",
       "    .dataframe tbody tr th:only-of-type {\n",
       "        vertical-align: middle;\n",
       "    }\n",
       "\n",
       "    .dataframe tbody tr th {\n",
       "        vertical-align: top;\n",
       "    }\n",
       "\n",
       "    .dataframe thead th {\n",
       "        text-align: right;\n",
       "    }\n",
       "</style>\n",
       "<table border=\"1\" class=\"dataframe\">\n",
       "  <thead>\n",
       "    <tr style=\"text-align: right;\">\n",
       "      <th></th>\n",
       "      <th>type</th>\n",
       "      <th>amount</th>\n",
       "      <th>oldbalanceOrg</th>\n",
       "      <th>newbalanceOrig</th>\n",
       "      <th>isFraud</th>\n",
       "    </tr>\n",
       "  </thead>\n",
       "  <tbody>\n",
       "    <tr>\n",
       "      <th>0</th>\n",
       "      <td>PAYMENT</td>\n",
       "      <td>3478.18</td>\n",
       "      <td>19853.00</td>\n",
       "      <td>16374.82</td>\n",
       "      <td>0</td>\n",
       "    </tr>\n",
       "    <tr>\n",
       "      <th>1</th>\n",
       "      <td>CASH_IN</td>\n",
       "      <td>253129.93</td>\n",
       "      <td>1328499.49</td>\n",
       "      <td>1581629.42</td>\n",
       "      <td>0</td>\n",
       "    </tr>\n",
       "    <tr>\n",
       "      <th>2</th>\n",
       "      <td>PAYMENT</td>\n",
       "      <td>1464.13</td>\n",
       "      <td>60483.00</td>\n",
       "      <td>59018.87</td>\n",
       "      <td>0</td>\n",
       "    </tr>\n",
       "    <tr>\n",
       "      <th>3</th>\n",
       "      <td>CASH_IN</td>\n",
       "      <td>266999.97</td>\n",
       "      <td>7411271.89</td>\n",
       "      <td>7678271.86</td>\n",
       "      <td>0</td>\n",
       "    </tr>\n",
       "    <tr>\n",
       "      <th>4</th>\n",
       "      <td>CASH_IN</td>\n",
       "      <td>53230.73</td>\n",
       "      <td>895081.62</td>\n",
       "      <td>948312.35</td>\n",
       "      <td>0</td>\n",
       "    </tr>\n",
       "  </tbody>\n",
       "</table>\n",
       "</div>"
      ],
      "text/plain": [
       "      type     amount  oldbalanceOrg  newbalanceOrig  isFraud\n",
       "0  PAYMENT    3478.18       19853.00        16374.82        0\n",
       "1  CASH_IN  253129.93     1328499.49      1581629.42        0\n",
       "2  PAYMENT    1464.13       60483.00        59018.87        0\n",
       "3  CASH_IN  266999.97     7411271.89      7678271.86        0\n",
       "4  CASH_IN   53230.73      895081.62       948312.35        0"
      ]
     },
     "execution_count": 30,
     "metadata": {},
     "output_type": "execute_result"
    }
   ],
   "source": [
    "import pandas as pd\n",
    "import numpy as np\n",
    "import matplotlib.pyplot as plt\n",
    "df = pd.read_csv('C:/Users/BABITA/Desktop/fraud detection/Final_Cleaned_Dataset.csv')\n",
    "df.head()"
   ]
  },
  {
   "cell_type": "markdown",
   "id": "2b66b523-2bea-4894-be19-1f10cc272ef8",
   "metadata": {},
   "source": [
    "### 2.Preprocess the Dataset"
   ]
  },
  {
   "cell_type": "code",
   "execution_count": 31,
   "id": "672585e3-1490-4d04-8dfc-95dee0da95f7",
   "metadata": {},
   "outputs": [
    {
     "data": {
      "text/plain": [
       "type              0\n",
       "amount            0\n",
       "oldbalanceOrg     0\n",
       "newbalanceOrig    0\n",
       "isFraud           0\n",
       "dtype: int64"
      ]
     },
     "execution_count": 31,
     "metadata": {},
     "output_type": "execute_result"
    }
   ],
   "source": [
    "df.isnull().sum()"
   ]
  },
  {
   "cell_type": "code",
   "execution_count": 32,
   "id": "c0d314a3-a09d-418e-9404-07795e1ceb54",
   "metadata": {},
   "outputs": [
    {
     "data": {
      "text/html": [
       "<div>\n",
       "<style scoped>\n",
       "    .dataframe tbody tr th:only-of-type {\n",
       "        vertical-align: middle;\n",
       "    }\n",
       "\n",
       "    .dataframe tbody tr th {\n",
       "        vertical-align: top;\n",
       "    }\n",
       "\n",
       "    .dataframe thead th {\n",
       "        text-align: right;\n",
       "    }\n",
       "</style>\n",
       "<table border=\"1\" class=\"dataframe\">\n",
       "  <thead>\n",
       "    <tr style=\"text-align: right;\">\n",
       "      <th></th>\n",
       "      <th>type</th>\n",
       "      <th>amount</th>\n",
       "      <th>oldbalanceOrg</th>\n",
       "      <th>newbalanceOrig</th>\n",
       "      <th>isFraud</th>\n",
       "    </tr>\n",
       "  </thead>\n",
       "  <tbody>\n",
       "    <tr>\n",
       "      <th>0</th>\n",
       "      <td>PAYMENT</td>\n",
       "      <td>0.000348</td>\n",
       "      <td>0.000346</td>\n",
       "      <td>0.000346</td>\n",
       "      <td>0.0</td>\n",
       "    </tr>\n",
       "    <tr>\n",
       "      <th>1</th>\n",
       "      <td>CASH_IN</td>\n",
       "      <td>0.025313</td>\n",
       "      <td>0.023178</td>\n",
       "      <td>0.033427</td>\n",
       "      <td>0.0</td>\n",
       "    </tr>\n",
       "    <tr>\n",
       "      <th>2</th>\n",
       "      <td>PAYMENT</td>\n",
       "      <td>0.000146</td>\n",
       "      <td>0.001055</td>\n",
       "      <td>0.001247</td>\n",
       "      <td>0.0</td>\n",
       "    </tr>\n",
       "    <tr>\n",
       "      <th>3</th>\n",
       "      <td>CASH_IN</td>\n",
       "      <td>0.026700</td>\n",
       "      <td>0.129305</td>\n",
       "      <td>0.162276</td>\n",
       "      <td>0.0</td>\n",
       "    </tr>\n",
       "    <tr>\n",
       "      <th>4</th>\n",
       "      <td>CASH_IN</td>\n",
       "      <td>0.005323</td>\n",
       "      <td>0.015617</td>\n",
       "      <td>0.020042</td>\n",
       "      <td>0.0</td>\n",
       "    </tr>\n",
       "  </tbody>\n",
       "</table>\n",
       "</div>"
      ],
      "text/plain": [
       "      type    amount  oldbalanceOrg  newbalanceOrig  isFraud\n",
       "0  PAYMENT  0.000348       0.000346        0.000346      0.0\n",
       "1  CASH_IN  0.025313       0.023178        0.033427      0.0\n",
       "2  PAYMENT  0.000146       0.001055        0.001247      0.0\n",
       "3  CASH_IN  0.026700       0.129305        0.162276      0.0\n",
       "4  CASH_IN  0.005323       0.015617        0.020042      0.0"
      ]
     },
     "execution_count": 32,
     "metadata": {},
     "output_type": "execute_result"
    }
   ],
   "source": [
    "from sklearn.preprocessing import MinMaxScaler\n",
    "import pandas as pd\n",
    "\n",
    "numeric_features = df.select_dtypes(include=[np.number]).columns\n",
    "scaler = MinMaxScaler()\n",
    "df[numeric_features] = scaler.fit_transform(df[numeric_features])\n",
    "\n",
    "df.head()"
   ]
  },
  {
   "cell_type": "markdown",
   "id": "c8691371-69e8-44c3-9214-92e2faa282d2",
   "metadata": {},
   "source": [
    "##### Features in a dataset can have varying units and magnitudes, which can negatively impact models like neural network algorithms (e.g.-logistic regression). MinMaxScaler rescales the features to ensure that no single feature dominates."
   ]
  },
  {
   "cell_type": "code",
   "execution_count": 33,
   "id": "bacb0d85-ca50-4f47-9a37-8ce993c9f513",
   "metadata": {},
   "outputs": [
    {
     "data": {
      "text/html": [
       "<div>\n",
       "<style scoped>\n",
       "    .dataframe tbody tr th:only-of-type {\n",
       "        vertical-align: middle;\n",
       "    }\n",
       "\n",
       "    .dataframe tbody tr th {\n",
       "        vertical-align: top;\n",
       "    }\n",
       "\n",
       "    .dataframe thead th {\n",
       "        text-align: right;\n",
       "    }\n",
       "</style>\n",
       "<table border=\"1\" class=\"dataframe\">\n",
       "  <thead>\n",
       "    <tr style=\"text-align: right;\">\n",
       "      <th></th>\n",
       "      <th>amount</th>\n",
       "      <th>oldbalanceOrg</th>\n",
       "      <th>newbalanceOrig</th>\n",
       "      <th>isFraud</th>\n",
       "      <th>type_CASH_IN</th>\n",
       "      <th>type_CASH_OUT</th>\n",
       "      <th>type_DEBIT</th>\n",
       "      <th>type_PAYMENT</th>\n",
       "      <th>type_TRANSFER</th>\n",
       "    </tr>\n",
       "  </thead>\n",
       "  <tbody>\n",
       "    <tr>\n",
       "      <th>0</th>\n",
       "      <td>0.000348</td>\n",
       "      <td>0.000346</td>\n",
       "      <td>0.000346</td>\n",
       "      <td>0.0</td>\n",
       "      <td>0.0</td>\n",
       "      <td>0.0</td>\n",
       "      <td>0.0</td>\n",
       "      <td>1.0</td>\n",
       "      <td>0.0</td>\n",
       "    </tr>\n",
       "    <tr>\n",
       "      <th>1</th>\n",
       "      <td>0.025313</td>\n",
       "      <td>0.023178</td>\n",
       "      <td>0.033427</td>\n",
       "      <td>0.0</td>\n",
       "      <td>1.0</td>\n",
       "      <td>0.0</td>\n",
       "      <td>0.0</td>\n",
       "      <td>0.0</td>\n",
       "      <td>0.0</td>\n",
       "    </tr>\n",
       "    <tr>\n",
       "      <th>2</th>\n",
       "      <td>0.000146</td>\n",
       "      <td>0.001055</td>\n",
       "      <td>0.001247</td>\n",
       "      <td>0.0</td>\n",
       "      <td>0.0</td>\n",
       "      <td>0.0</td>\n",
       "      <td>0.0</td>\n",
       "      <td>1.0</td>\n",
       "      <td>0.0</td>\n",
       "    </tr>\n",
       "    <tr>\n",
       "      <th>3</th>\n",
       "      <td>0.026700</td>\n",
       "      <td>0.129305</td>\n",
       "      <td>0.162276</td>\n",
       "      <td>0.0</td>\n",
       "      <td>1.0</td>\n",
       "      <td>0.0</td>\n",
       "      <td>0.0</td>\n",
       "      <td>0.0</td>\n",
       "      <td>0.0</td>\n",
       "    </tr>\n",
       "    <tr>\n",
       "      <th>4</th>\n",
       "      <td>0.005323</td>\n",
       "      <td>0.015617</td>\n",
       "      <td>0.020042</td>\n",
       "      <td>0.0</td>\n",
       "      <td>1.0</td>\n",
       "      <td>0.0</td>\n",
       "      <td>0.0</td>\n",
       "      <td>0.0</td>\n",
       "      <td>0.0</td>\n",
       "    </tr>\n",
       "  </tbody>\n",
       "</table>\n",
       "</div>"
      ],
      "text/plain": [
       "     amount  oldbalanceOrg  newbalanceOrig  isFraud  type_CASH_IN  \\\n",
       "0  0.000348       0.000346        0.000346      0.0           0.0   \n",
       "1  0.025313       0.023178        0.033427      0.0           1.0   \n",
       "2  0.000146       0.001055        0.001247      0.0           0.0   \n",
       "3  0.026700       0.129305        0.162276      0.0           1.0   \n",
       "4  0.005323       0.015617        0.020042      0.0           1.0   \n",
       "\n",
       "   type_CASH_OUT  type_DEBIT  type_PAYMENT  type_TRANSFER  \n",
       "0            0.0         0.0           1.0            0.0  \n",
       "1            0.0         0.0           0.0            0.0  \n",
       "2            0.0         0.0           1.0            0.0  \n",
       "3            0.0         0.0           0.0            0.0  \n",
       "4            0.0         0.0           0.0            0.0  "
      ]
     },
     "execution_count": 33,
     "metadata": {},
     "output_type": "execute_result"
    }
   ],
   "source": [
    "from sklearn.impute import SimpleImputer\n",
    "# Handling missing data if any \n",
    "numeric_features = df.select_dtypes(include=[np.number]).columns\n",
    "categorical_features = df.select_dtypes(exclude=[np.number]).columns\n",
    "\n",
    "# Find similar matches for numerical columns using mean\n",
    "imputer_num = SimpleImputer(strategy='mean')\n",
    "df[numeric_features] = imputer_num.fit_transform(df[numeric_features])\n",
    "\n",
    "# Find similar matches -for categorical columns using most frequent\n",
    "imputer_cat = SimpleImputer(strategy='most_frequent')\n",
    "df[categorical_features] = imputer_cat.fit_transform(df[categorical_features])\n",
    "\n",
    "# One-hot encoding for categorical features\n",
    "from sklearn.preprocessing import OneHotEncoder\n",
    "encoder = OneHotEncoder(sparse_output=False, drop=None)\n",
    "df_encoded = pd.DataFrame(encoder.fit_transform(df[categorical_features]),\n",
    "                          columns=encoder.get_feature_names_out(categorical_features))\n",
    "\n",
    "# Dropping original categorical columns and concatenate the new one-hot encoded columns\n",
    "df = df.drop(columns=categorical_features)\n",
    "df = pd.concat([df, df_encoded], axis=1)\n",
    "\n",
    "df.head()"
   ]
  },
  {
   "cell_type": "markdown",
   "id": "f3fde292-df15-4ad6-9c07-9346a79eba38",
   "metadata": {},
   "source": [
    "##### SimpleImputer is used to replace missing values in a dataset."
   ]
  },
  {
   "cell_type": "markdown",
   "id": "084f949c-2c06-4e04-9b44-73f95e6e8971",
   "metadata": {},
   "source": [
    "##### One-hot encoding is used to transform the categorical features into binary vectors where each category becomes a new column."
   ]
  },
  {
   "cell_type": "markdown",
   "id": "144a3dcf-9589-4e73-a06b-6f080438a480",
   "metadata": {},
   "source": [
    "### 3.Split the Dataset into Training, Validation, and Testing Sets"
   ]
  },
  {
   "cell_type": "code",
   "execution_count": 34,
   "id": "72fe4e5c-1d0d-467d-abd6-21e3e06fbc1e",
   "metadata": {},
   "outputs": [
    {
     "name": "stdout",
     "output_type": "stream",
     "text": [
      "Training values: (6448, 8)\n",
      "Validation values: (1383, 8)\n",
      "Testing values: (1382, 8)\n"
     ]
    }
   ],
   "source": [
    "from sklearn.model_selection import train_test_split\n",
    "\n",
    "X = df.drop(columns=['isFraud'])  # Input Features (X) or independent values\n",
    "y = df['isFraud']  # Input target (y) or dependent value\n",
    "\n",
    "# Splitting the train +validation set into train 70%, validation 15% and test 15%\n",
    "X_train_val, X_test, y_train_val, y_test = train_test_split(X, y, test_size=0.15, random_state=42)\n",
    "X_train, X_val, y_train, y_val = train_test_split(X_train_val, y_train_val, test_size=0.1765, random_state=42) # (15/85 = 0.1765)\n",
    "\n",
    "#Defining the values and shapes\n",
    "print(\"Training values:\", X_train.shape)\n",
    "print(\"Validation values:\", X_val.shape)\n",
    "print(\"Testing values:\", X_test.shape)"
   ]
  },
  {
   "cell_type": "code",
   "execution_count": 35,
   "id": "a6681e33-e665-4e22-a590-044ef4e39822",
   "metadata": {},
   "outputs": [
    {
     "name": "stdout",
     "output_type": "stream",
     "text": [
      "['amount', 'oldbalanceOrg', 'newbalanceOrig', 'isFraud', 'type_CASH_IN', 'type_CASH_OUT', 'type_DEBIT', 'type_PAYMENT', 'type_TRANSFER']\n"
     ]
    }
   ],
   "source": [
    "import pandas as pd\n",
    "df = pd.DataFrame(df)\n",
    "print(df.columns.tolist())"
   ]
  },
  {
   "cell_type": "markdown",
   "id": "e447b185-acdf-4165-83fa-aafe9d0f2d1c",
   "metadata": {},
   "source": [
    "## Week 4"
   ]
  },
  {
   "cell_type": "markdown",
   "id": "a9396b49-ff98-49c2-ad8d-bd7db78938e9",
   "metadata": {},
   "source": [
    "### 1.Explore and Finalize Suitable ML Algorithm"
   ]
  },
  {
   "cell_type": "code",
   "execution_count": 36,
   "id": "013ce3ca-cf40-47d3-ad66-201960a07fef",
   "metadata": {},
   "outputs": [],
   "source": [
    "from sklearn.linear_model import LogisticRegression\n",
    "from sklearn.tree import DecisionTreeClassifier\n",
    "from sklearn.ensemble import RandomForestClassifier\n",
    "from sklearn.neighbors import KNeighborsClassifier\n",
    "from sklearn.ensemble import GradientBoostingClassifier\n",
    "from sklearn.metrics import accuracy_score, precision_score, recall_score, f1_score,confusion_matrix, ConfusionMatrixDisplay\n",
    "import matplotlib.pyplot as plt"
   ]
  },
  {
   "cell_type": "code",
   "execution_count": 37,
   "id": "db7e94fb-1252-43db-b72f-e45883b07e1d",
   "metadata": {},
   "outputs": [
    {
     "name": "stdout",
     "output_type": "stream",
     "text": [
      "Logistic Regression - Accuracy: 0.9660, Precision: 0.9493, Recall: 1.0000, F1-score: 0.9740\n"
     ]
    },
    {
     "data": {
      "image/png": "[encoded data removed]",
      "text/plain": [
       "<Figure size 640x480 with 1 Axes>"
      ]
     },
     "metadata": {},
     "output_type": "display_data"
    },
    {
     "data": {
      "image/png": "[encoded data removed]",
      "text/plain": [
       "<Figure size 640x480 with 2 Axes>"
      ]
     },
     "metadata": {},
     "output_type": "display_data"
    }
   ],
   "source": [
    "logistic_reg = LogisticRegression(random_state=42, max_iter=1000)\n",
    "logistic_reg.fit(X_train, y_train)\n",
    "\n",
    "# Make predictions on the validation set\n",
    "y_pred_lr = logistic_reg.predict(X_val)\n",
    "\n",
    "# Evaluate Logistic Regression performance\n",
    "accuracy_lr = accuracy_score(y_val, y_pred_lr)\n",
    "precision_lr = precision_score(y_val, y_pred_lr)\n",
    "recall_lr = recall_score(y_val, y_pred_lr)\n",
    "f1_lr = f1_score(y_val, y_pred_lr)\n",
    "print(f\"Logistic Regression - Accuracy: {accuracy_lr:.4f}, Precision: {precision_lr:.4f}, Recall: {recall_lr:.4f}, F1-score: {f1_lr:.4f}\")\n",
    "\n",
    "# Define metrics for Logistic Regression\n",
    "metrics = [accuracy_lr, precision_lr, recall_lr, f1_lr]  \n",
    "# Create the bar plot\n",
    "plt.bar(['Accuracy', 'Precision', 'Recall', 'F1 Score'], metrics, color='red')\n",
    "plt.ylim(0, 1)\n",
    "plt.ylabel('Score')\n",
    "plt.title('Logistic Regression Classifier Metrics')\n",
    "plt.show()\n",
    "\n",
    "cm = confusion_matrix(y_val, y_pred_lr)\n",
    "disp = ConfusionMatrixDisplay(confusion_matrix=cm)\n",
    "disp.plot(cmap='Oranges_r')\n",
    "plt.title('Confusion Matrix -Logistic Regression Classifier')\n",
    "plt.show()\n"
   ]
  },
  {
   "cell_type": "code",
   "execution_count": 38,
   "id": "7a6f3d17-ebfd-43eb-82ca-dbbc4db9202c",
   "metadata": {},
   "outputs": [
    {
     "name": "stdout",
     "output_type": "stream",
     "text": [
      "Decision Tree - Accuracy: 0.9986, Precision: 0.9977, Recall: 1.0000, F1-score: 0.9989\n"
     ]
    },
    {
     "data": {
      "image/png": "[encoded data removed]",
      "text/plain": [
       "<Figure size 640x480 with 2 Axes>"
      ]
     },
     "metadata": {},
     "output_type": "display_data"
    }
   ],
   "source": [
    "decision_tree = DecisionTreeClassifier(random_state=42)\n",
    "decision_tree.fit(X_train, y_train)\n",
    "y_pred_dt = decision_tree.predict(X_val)\n",
    "\n",
    "accuracy = accuracy_score(y_val, y_pred_dt)\n",
    "precision = precision_score(y_val, y_pred_dt)\n",
    "recall = recall_score(y_val, y_pred_dt)\n",
    "f1 = f1_score(y_val, y_pred_dt)\n",
    "print(f\"Decision Tree - Accuracy: {accuracy:.4f}, Precision: {precision:.4f}, Recall: {recall:.4f}, F1-score: {f1:.4f}\")\n",
    "\n",
    "cm = confusion_matrix(y_val, y_pred_dt)\n",
    "disp = ConfusionMatrixDisplay(confusion_matrix=cm)\n",
    "disp.plot(cmap='Blues_r')\n",
    "plt.title('Confusion Matrix -Decision Tree Classifier')\n",
    "plt.show()\n",
    "\n"
   ]
  },
  {
   "cell_type": "code",
   "execution_count": 39,
   "id": "c8671fbb-fa2c-4273-8508-a32eaf85658e",
   "metadata": {},
   "outputs": [
    {
     "name": "stdout",
     "output_type": "stream",
     "text": [
      "Random Forest - Accuracy: 0.9993, Precision: 0.9989, Recall: 1.0000, F1-score: 0.9994\n"
     ]
    },
    {
     "data": {
      "image/png": "[encoded data removed]",
      "text/plain": [
       "<Figure size 640x480 with 1 Axes>"
      ]
     },
     "metadata": {},
     "output_type": "display_data"
    },
    {
     "data": {
      "image/png": "[encoded data removed]",
      "text/plain": [
       "<Figure size 640x480 with 2 Axes>"
      ]
     },
     "metadata": {},
     "output_type": "display_data"
    }
   ],
   "source": [
    "random_forest = RandomForestClassifier(random_state=42)\n",
    "random_forest.fit(X_train, y_train)\n",
    "y_pred_rf = random_forest.predict(X_val)\n",
    "accuracy_rf = accuracy_score(y_val, y_pred_rf)\n",
    "precision_rf = precision_score(y_val, y_pred_rf)\n",
    "recall_rf = recall_score(y_val, y_pred_rf)\n",
    "f1_rf = f1_score(y_val, y_pred_rf)\n",
    "\n",
    "print(f\"Random Forest - Accuracy: {accuracy_rf:.4f}, Precision: {precision_rf:.4f}, Recall: {recall_rf:.4f}, F1-score: {f1_rf:.4f}\")\n",
    "metrics = [accuracy_rf, precision_rf, recall_rf, f1_rf]  \n",
    "plt.bar(['Accuracy', 'Precision', 'Recall', 'F1 Score'], metrics, color='green')\n",
    "plt.ylim(0, 1)\n",
    "plt.ylabel('Score')\n",
    "plt.title('Random Forest Classifier Metrics')\n",
    "plt.show()\n",
    "\n",
    "cm = confusion_matrix(y_val, y_pred_rf)\n",
    "disp = ConfusionMatrixDisplay(confusion_matrix=cm)\n",
    "disp.plot(cmap='Greens')\n",
    "plt.title('Confusion Matrix - Random Forest Classifier')\n",
    "plt.show()"
   ]
  },
  {
   "cell_type": "code",
   "execution_count": 40,
   "id": "06ac8868-f53a-45e0-aeff-98c6785e2776",
   "metadata": {},
   "outputs": [
    {
     "name": "stdout",
     "output_type": "stream",
     "text": [
      "KNN - Accuracy: 0.9942, Precision: 0.9910, Recall: 1.0000, F1-score: 0.9955\n"
     ]
    },
    {
     "data": {
      "image/png": "[encoded data removed]",
      "text/plain": [
       "<Figure size 640x480 with 2 Axes>"
      ]
     },
     "metadata": {},
     "output_type": "display_data"
    }
   ],
   "source": [
    "knn = KNeighborsClassifier(n_neighbors=5)\n",
    "knn.fit(X_train, y_train)\n",
    "y_pred_knn = knn.predict(X_val)\n",
    "\n",
    "accuracy_knn = accuracy_score(y_val, y_pred_knn)\n",
    "precision_knn = precision_score(y_val, y_pred_knn)\n",
    "recall_knn = recall_score(y_val, y_pred_knn)\n",
    "f1_knn = f1_score(y_val, y_pred_knn)\n",
    "print(f\"KNN - Accuracy: {accuracy_knn:.4f}, Precision: {precision_knn:.4f}, Recall: {recall_knn:.4f}, F1-score: {f1_knn:.4f}\")\n",
    "\n",
    "cm = confusion_matrix(y_val, y_pred_knn)\n",
    "disp = ConfusionMatrixDisplay(confusion_matrix=cm)\n",
    "disp.plot(cmap='pink')\n",
    "plt.title('Confusion Matrix - K-Nearest Neighbors Classifier')\n",
    "plt.show()"
   ]
  },
  {
   "cell_type": "code",
   "execution_count": 41,
   "id": "848f653e-2b00-4ba5-addb-66c0d3f1527f",
   "metadata": {},
   "outputs": [
    {
     "name": "stdout",
     "output_type": "stream",
     "text": [
      "GDBoost - Accuracy: 0.9993, Precision: 0.9989, Recall: 1.0000, F1-score: 0.9994\n"
     ]
    },
    {
     "data": {
      "image/png": "[encoded data removed]",
      "text/plain": [
       "<Figure size 640x480 with 2 Axes>"
      ]
     },
     "metadata": {},
     "output_type": "display_data"
    }
   ],
   "source": [
    "gbc = GradientBoostingClassifier(random_state=42)\n",
    "gbc.fit(X_train, y_train)\n",
    "y_pred_gbc = gbc.predict(X_val)\n",
    "\n",
    "accuracy_gbc = accuracy_score(y_val, y_pred_gbc)\n",
    "precision_gbc = precision_score(y_val, y_pred_gbc)\n",
    "recall_gbc = recall_score(y_val, y_pred_gbc)\n",
    "f1_gbc = f1_score(y_val, y_pred_gbc)\n",
    "\n",
    "print(f\"GDBoost - Accuracy: {accuracy_gbc:.4f}, Precision: {precision_gbc:.4f}, Recall: {recall_gbc:.4f}, F1-score: {f1_gbc:.4f}\")\n",
    "\n",
    "cm = confusion_matrix(y_val, y_pred_gbc)\n",
    "disp = ConfusionMatrixDisplay(confusion_matrix=cm)\n",
    "disp.plot(cmap='BuPu_r')\n",
    "plt.title('Confusion Matrix - Gradient Boosting Classifier ')\n",
    "plt.show()"
   ]
  },
  {
   "cell_type": "code",
   "execution_count": 42,
   "id": "01f4a20a-4400-4244-b5ce-687be505eae4",
   "metadata": {},
   "outputs": [
    {
     "name": "stdout",
     "output_type": "stream",
     "text": [
      "\n",
      "Model Performance Comparison:\n",
      "                  Model  Accuracy  Precision  Recall  F1-score\n",
      "0  Logistic Regression  0.966016   0.949299     1.0  0.973990\n",
      "1        Decision Tree  0.998554   0.997732     1.0  0.998865\n",
      "2        Random Forest  0.999277   0.998865     1.0  0.999432\n",
      "3                  KNN  0.994215   0.990991     1.0  0.995475\n",
      "4              GDBoost  0.999277   0.998865     1.0  0.999432\n"
     ]
    }
   ],
   "source": [
    "# Comparison\n",
    "Model_data = {\n",
    "    'Model': ['Logistic Regression','Decision Tree', 'Random Forest','KNN','GDBoost'],\n",
    "    'Accuracy': [accuracy_lr,accuracy, accuracy_rf,accuracy_knn,accuracy_gbc],\n",
    "    'Precision': [precision_lr,precision, precision_rf,precision_knn,precision_gbc],\n",
    "    'Recall': [recall_lr,recall, recall_rf,recall_knn,recall_gbc],\n",
    "    'F1-score': [f1_lr,f1,f1_rf,f1_knn,f1_gbc]\n",
    "}\n",
    "\n",
    "Model_df = pd.DataFrame(Model_data)\n",
    "print(\"\\nModel Performance Comparison:\\n\", Model_df)\n"
   ]
  },
  {
   "cell_type": "markdown",
   "id": "43c06eeb-44de-4350-88ba-49ade18f0cbc",
   "metadata": {},
   "source": [
    "##### K-Nearest Neighbors gives the best accuracy and F1 score (0.99 accuracy) But if you want the model with potentially even better generalization on unseen data and flexibility in tuning-\n",
    "##### Random Forest would also be a strong choice. It provides good performance too in comparision to Knn (0.989 accuracy) and is more robust to overfitting compared to KNN, especially on larger datasets.I have chosen RANDOM FOREST after doing cross validation and avoid overfitting the model"
   ]
  },
  {
   "cell_type": "markdown",
   "id": "dad567fa-048a-4dff-8b07-2e7b8353d2b9",
   "metadata": {},
   "source": [
    "### 2.Finalize the Model Architecture:"
   ]
  },
  {
   "cell_type": "code",
   "execution_count": 43,
   "id": "6860492e-a7f6-44a9-b5ff-b83d26d2a41f",
   "metadata": {},
   "outputs": [],
   "source": [
    "from sklearn.ensemble import RandomForestClassifier\n",
    "from sklearn.neighbors import KNeighborsClassifier\n",
    "from sklearn.metrics import accuracy_score\n",
    "from sklearn.model_selection import GridSearchCV"
   ]
  },
  {
   "cell_type": "code",
   "execution_count": 44,
   "id": "98b4ca5e-03a9-4956-ba05-0361c7bcf821",
   "metadata": {},
   "outputs": [
    {
     "name": "stdout",
     "output_type": "stream",
     "text": [
      "Before Hyperparameter Tuning accuracy : 0.9992769342010123\n",
      "Fitting 5 folds for each of 216 candidates, totalling 1080 fits\n",
      "Best Parameters for Random Forest: {'max_depth': None, 'max_features': 'sqrt', 'min_samples_leaf': 1, 'min_samples_split': 2, 'n_estimators': 50}\n",
      "After Hyperparameter Tuning Accuracy: 1.0\n"
     ]
    }
   ],
   "source": [
    "# for Random Forest Hyperparameter tuning\n",
    "print(\"Before Hyperparameter Tuning accuracy :\", accuracy_rf)\n",
    "\n",
    "#  Define hyperparameter grid for Random Forest\n",
    "param_grid_rf = {\n",
    "    'n_estimators': [50, 100, 200],           # Number of trees\n",
    "    'max_depth': [None, 10, 20, 30],          # Tree depth\n",
    "    'min_samples_split': [2, 5, 10],          # Min samples per split\n",
    "    'min_samples_leaf': [1, 2, 4],            # Min samples per leaf\n",
    "    'max_features': ['sqrt', 'log2']          # Features to consider at each split\n",
    "}\n",
    "\n",
    "# Setting up the GridSearchCV for best parameters\n",
    "grid_search = GridSearchCV(estimator=random_forest, param_grid=param_grid_rf, cv=5, scoring='accuracy', n_jobs=-1, verbose=2)\n",
    "grid_search.fit(X_train, y_train)\n",
    "\n",
    "# Train Random Forest with best parameters (after tuning)\n",
    "best_rf = grid_search.best_estimator_\n",
    "y_pred_best = best_rf.predict(X_test)\n",
    "accuracy_best = accuracy_score(y_test, y_pred_best)\n",
    "print(\"Best Parameters for Random Forest:\", grid_search.best_params_)\n",
    "print(\"After Hyperparameter Tuning Accuracy:\", accuracy_best)"
   ]
  },
  {
   "cell_type": "code",
   "execution_count": 45,
   "id": "5a9a6c11-447f-467c-953e-b5555373f21a",
   "metadata": {},
   "outputs": [
    {
     "name": "stdout",
     "output_type": "stream",
     "text": [
      "Before Hyperparameter Tuning (KNN) accuracy: 0.9942154736080984\n",
      "Fitting 5 folds for each of 30 candidates, totalling 150 fits\n",
      "Best Parameters for KNN: {'metric': 'manhattan', 'n_neighbors': 3, 'weights': 'distance'}\n",
      "After Hyperparameter Tuning (KNN) accuracy: 0.9956584659913169\n"
     ]
    }
   ],
   "source": [
    "# for KNN  Hyperparameter tuning\n",
    "print(\"Before Hyperparameter Tuning (KNN) accuracy:\", accuracy_knn)\n",
    "\n",
    "param_grid_knn = {\n",
    "    'n_neighbors': [3, 5, 7, 9, 11],                \n",
    "    'weights': ['uniform', 'distance'],             \n",
    "    'metric': ['euclidean', 'manhattan', 'minkowski']  \n",
    "}\n",
    "\n",
    "grid_search_knn = GridSearchCV(estimator=knn, param_grid=param_grid_knn, cv=5, scoring='accuracy', n_jobs=-1, verbose=2)\n",
    "grid_search_knn.fit(X_train, y_train)\n",
    "\n",
    "# Train the model after tunnig \n",
    "best_knn = grid_search_knn.best_estimator_\n",
    "y_pred_best_knn = best_knn.predict(X_test)\n",
    "accuracy_best_knn = accuracy_score(y_test, y_pred_best_knn)\n",
    "print(\"Best Parameters for KNN:\", grid_search_knn.best_params_)\n",
    "print(\"After Hyperparameter Tuning (KNN) accuracy:\", accuracy_best_knn)"
   ]
  },
  {
   "cell_type": "markdown",
   "id": "90aff366-53ff-431b-8b87-1355975d8261",
   "metadata": {},
   "source": [
    "##### Here after Hyperparamater tuning the accuracy of Random Forest improved and gave good accuracy to train the model,K-nearest neighbour did not improve much after Hyperparamter tunig.where as for large dataset Knn is not a best fit model"
   ]
  },
  {
   "cell_type": "markdown",
   "id": "c1291c1f-8b0b-405c-b603-c796a6888672",
   "metadata": {},
   "source": [
    "### 3.Implement the Model using Tensorflow"
   ]
  },
  {
   "cell_type": "code",
   "execution_count": 46,
   "id": "7d03d300-1d2f-4b65-845f-1f2ee14685c4",
   "metadata": {},
   "outputs": [
    {
     "name": "stdout",
     "output_type": "stream",
     "text": [
      "Defaulting to user installation because normal site-packages is not writeable\n",
      "Requirement already satisfied: tensorflow in c:\\users\\babita\\appdata\\local\\packages\\pythonsoftwarefoundation.python.3.12_qbz5n2kfra8p0\\localcache\\local-packages\\python312\\site-packages (2.20.0)\n",
      "Requirement already satisfied: absl-py>=1.0.0 in c:\\users\\babita\\appdata\\local\\packages\\pythonsoftwarefoundation.python.3.12_qbz5n2kfra8p0\\localcache\\local-packages\\python312\\site-packages (from tensorflow) (2.3.1)\n",
      "Requirement already satisfied: astunparse>=1.6.0 in c:\\users\\babita\\appdata\\local\\packages\\pythonsoftwarefoundation.python.3.12_qbz5n2kfra8p0\\localcache\\local-packages\\python312\\site-packages (from tensorflow) (1.6.3)\n",
      "Requirement already satisfied: flatbuffers>=24.3.25 in c:\\users\\babita\\appdata\\local\\packages\\pythonsoftwarefoundation.python.3.12_qbz5n2kfra8p0\\localcache\\local-packages\\python312\\site-packages (from tensorflow) (25.2.10)\n",
      "Requirement already satisfied: gast!=0.5.0,!=0.5.1,!=0.5.2,>=0.2.1 in c:\\users\\babita\\appdata\\local\\packages\\pythonsoftwarefoundation.python.3.12_qbz5n2kfra8p0\\localcache\\local-packages\\python312\\site-packages (from tensorflow) (0.6.0)\n",
      "Requirement already satisfied: google_pasta>=0.1.1 in c:\\users\\babita\\appdata\\local\\packages\\pythonsoftwarefoundation.python.3.12_qbz5n2kfra8p0\\localcache\\local-packages\\python312\\site-packages (from tensorflow) (0.2.0)\n",
      "Requirement already satisfied: libclang>=13.0.0 in c:\\users\\babita\\appdata\\local\\packages\\pythonsoftwarefoundation.python.3.12_qbz5n2kfra8p0\\localcache\\local-packages\\python312\\site-packages (from tensorflow) (18.1.1)\n",
      "Requirement already satisfied: opt_einsum>=2.3.2 in c:\\users\\babita\\appdata\\local\\packages\\pythonsoftwarefoundation.python.3.12_qbz5n2kfra8p0\\localcache\\local-packages\\python312\\site-packages (from tensorflow) (3.4.0)\n",
      "Requirement already satisfied: packaging in c:\\users\\babita\\appdata\\local\\packages\\pythonsoftwarefoundation.python.3.12_qbz5n2kfra8p0\\localcache\\local-packages\\python312\\site-packages (from tensorflow) (25.0)\n",
      "Requirement already satisfied: protobuf>=5.28.0 in c:\\users\\babita\\appdata\\local\\packages\\pythonsoftwarefoundation.python.3.12_qbz5n2kfra8p0\\localcache\\local-packages\\python312\\site-packages (from tensorflow) (6.32.0)\n",
      "Requirement already satisfied: requests<3,>=2.21.0 in c:\\users\\babita\\appdata\\local\\packages\\pythonsoftwarefoundation.python.3.12_qbz5n2kfra8p0\\localcache\\local-packages\\python312\\site-packages (from tensorflow) (2.32.4)\n",
      "Requirement already satisfied: setuptools in c:\\users\\babita\\appdata\\local\\packages\\pythonsoftwarefoundation.python.3.12_qbz5n2kfra8p0\\localcache\\local-packages\\python312\\site-packages (from tensorflow) (80.9.0)\n",
      "Requirement already satisfied: six>=1.12.0 in c:\\users\\babita\\appdata\\local\\packages\\pythonsoftwarefoundation.python.3.12_qbz5n2kfra8p0\\localcache\\local-packages\\python312\\site-packages (from tensorflow) (1.17.0)\n",
      "Requirement already satisfied: termcolor>=1.1.0 in c:\\users\\babita\\appdata\\local\\packages\\pythonsoftwarefoundation.python.3.12_qbz5n2kfra8p0\\localcache\\local-packages\\python312\\site-packages (from tensorflow) (3.1.0)\n",
      "Requirement already satisfied: typing_extensions>=3.6.6 in c:\\users\\babita\\appdata\\local\\packages\\pythonsoftwarefoundation.python.3.12_qbz5n2kfra8p0\\localcache\\local-packages\\python312\\site-packages (from tensorflow) (4.14.1)\n",
      "Requirement already satisfied: wrapt>=1.11.0 in c:\\users\\babita\\appdata\\local\\packages\\pythonsoftwarefoundation.python.3.12_qbz5n2kfra8p0\\localcache\\local-packages\\python312\\site-packages (from tensorflow) (1.17.3)\n",
      "Requirement already satisfied: grpcio<2.0,>=1.24.3 in c:\\users\\babita\\appdata\\local\\packages\\pythonsoftwarefoundation.python.3.12_qbz5n2kfra8p0\\localcache\\local-packages\\python312\\site-packages (from tensorflow) (1.74.0)\n",
      "Requirement already satisfied: tensorboard~=2.20.0 in c:\\users\\babita\\appdata\\local\\packages\\pythonsoftwarefoundation.python.3.12_qbz5n2kfra8p0\\localcache\\local-packages\\python312\\site-packages (from tensorflow) (2.20.0)\n",
      "Requirement already satisfied: keras>=3.10.0 in c:\\users\\babita\\appdata\\local\\packages\\pythonsoftwarefoundation.python.3.12_qbz5n2kfra8p0\\localcache\\local-packages\\python312\\site-packages (from tensorflow) (3.11.2)\n",
      "Requirement already satisfied: numpy>=1.26.0 in c:\\users\\babita\\appdata\\local\\packages\\pythonsoftwarefoundation.python.3.12_qbz5n2kfra8p0\\localcache\\local-packages\\python312\\site-packages (from tensorflow) (2.3.2)\n",
      "Requirement already satisfied: h5py>=3.11.0 in c:\\users\\babita\\appdata\\local\\packages\\pythonsoftwarefoundation.python.3.12_qbz5n2kfra8p0\\localcache\\local-packages\\python312\\site-packages (from tensorflow) (3.14.0)\n",
      "Requirement already satisfied: ml_dtypes<1.0.0,>=0.5.1 in c:\\users\\babita\\appdata\\local\\packages\\pythonsoftwarefoundation.python.3.12_qbz5n2kfra8p0\\localcache\\local-packages\\python312\\site-packages (from tensorflow) (0.5.3)\n",
      "Requirement already satisfied: charset_normalizer<4,>=2 in c:\\users\\babita\\appdata\\local\\packages\\pythonsoftwarefoundation.python.3.12_qbz5n2kfra8p0\\localcache\\local-packages\\python312\\site-packages (from requests<3,>=2.21.0->tensorflow) (3.4.3)\n",
      "Requirement already satisfied: idna<4,>=2.5 in c:\\users\\babita\\appdata\\local\\packages\\pythonsoftwarefoundation.python.3.12_qbz5n2kfra8p0\\localcache\\local-packages\\python312\\site-packages (from requests<3,>=2.21.0->tensorflow) (3.10)\n",
      "Requirement already satisfied: urllib3<3,>=1.21.1 in c:\\users\\babita\\appdata\\local\\packages\\pythonsoftwarefoundation.python.3.12_qbz5n2kfra8p0\\localcache\\local-packages\\python312\\site-packages (from requests<3,>=2.21.0->tensorflow) (2.5.0)\n",
      "Requirement already satisfied: certifi>=2017.4.17 in c:\\users\\babita\\appdata\\local\\packages\\pythonsoftwarefoundation.python.3.12_qbz5n2kfra8p0\\localcache\\local-packages\\python312\\site-packages (from requests<3,>=2.21.0->tensorflow) (2025.8.3)\n",
      "Requirement already satisfied: markdown>=2.6.8 in c:\\users\\babita\\appdata\\local\\packages\\pythonsoftwarefoundation.python.3.12_qbz5n2kfra8p0\\localcache\\local-packages\\python312\\site-packages (from tensorboard~=2.20.0->tensorflow) (3.8.2)\n",
      "Requirement already satisfied: pillow in c:\\users\\babita\\appdata\\local\\packages\\pythonsoftwarefoundation.python.3.12_qbz5n2kfra8p0\\localcache\\local-packages\\python312\\site-packages (from tensorboard~=2.20.0->tensorflow) (11.3.0)\n",
      "Requirement already satisfied: tensorboard-data-server<0.8.0,>=0.7.0 in c:\\users\\babita\\appdata\\local\\packages\\pythonsoftwarefoundation.python.3.12_qbz5n2kfra8p0\\localcache\\local-packages\\python312\\site-packages (from tensorboard~=2.20.0->tensorflow) (0.7.2)\n",
      "Requirement already satisfied: werkzeug>=1.0.1 in c:\\users\\babita\\appdata\\local\\packages\\pythonsoftwarefoundation.python.3.12_qbz5n2kfra8p0\\localcache\\local-packages\\python312\\site-packages (from tensorboard~=2.20.0->tensorflow) (3.1.3)\n",
      "Requirement already satisfied: wheel<1.0,>=0.23.0 in c:\\users\\babita\\appdata\\local\\packages\\pythonsoftwarefoundation.python.3.12_qbz5n2kfra8p0\\localcache\\local-packages\\python312\\site-packages (from astunparse>=1.6.0->tensorflow) (0.45.1)\n",
      "Requirement already satisfied: rich in c:\\users\\babita\\appdata\\local\\packages\\pythonsoftwarefoundation.python.3.12_qbz5n2kfra8p0\\localcache\\local-packages\\python312\\site-packages (from keras>=3.10.0->tensorflow) (14.1.0)\n",
      "Requirement already satisfied: namex in c:\\users\\babita\\appdata\\local\\packages\\pythonsoftwarefoundation.python.3.12_qbz5n2kfra8p0\\localcache\\local-packages\\python312\\site-packages (from keras>=3.10.0->tensorflow) (0.1.0)\n",
      "Requirement already satisfied: optree in c:\\users\\babita\\appdata\\local\\packages\\pythonsoftwarefoundation.python.3.12_qbz5n2kfra8p0\\localcache\\local-packages\\python312\\site-packages (from keras>=3.10.0->tensorflow) (0.17.0)\n",
      "Requirement already satisfied: MarkupSafe>=2.1.1 in c:\\users\\babita\\appdata\\local\\packages\\pythonsoftwarefoundation.python.3.12_qbz5n2kfra8p0\\localcache\\local-packages\\python312\\site-packages (from werkzeug>=1.0.1->tensorboard~=2.20.0->tensorflow) (3.0.2)\n",
      "Requirement already satisfied: markdown-it-py>=2.2.0 in c:\\users\\babita\\appdata\\local\\packages\\pythonsoftwarefoundation.python.3.12_qbz5n2kfra8p0\\localcache\\local-packages\\python312\\site-packages (from rich->keras>=3.10.0->tensorflow) (4.0.0)\n",
      "Requirement already satisfied: pygments<3.0.0,>=2.13.0 in c:\\users\\babita\\appdata\\local\\packages\\pythonsoftwarefoundation.python.3.12_qbz5n2kfra8p0\\localcache\\local-packages\\python312\\site-packages (from rich->keras>=3.10.0->tensorflow) (2.19.2)\n",
      "Requirement already satisfied: mdurl~=0.1 in c:\\users\\babita\\appdata\\local\\packages\\pythonsoftwarefoundation.python.3.12_qbz5n2kfra8p0\\localcache\\local-packages\\python312\\site-packages (from markdown-it-py>=2.2.0->rich->keras>=3.10.0->tensorflow) (0.1.2)\n"
     ]
    }
   ],
   "source": [
    "!pip install tensorflow"
   ]
  },
  {
   "cell_type": "markdown",
   "id": "9c60080a-f342-4aa5-9374-f49e683789ce",
   "metadata": {},
   "source": [
    "### 4.Train the Model with the Training Dataset"
   ]
  },
  {
   "cell_type": "markdown",
   "id": "9afcbc30-2d6a-4415-9fc3-bd7a57a2870e",
   "metadata": {},
   "source": [
    "#### Importing libraries"
   ]
  },
  {
   "cell_type": "code",
   "execution_count": 47,
   "id": "035c6ddc-21ef-4c4e-8b64-159015b1548b",
   "metadata": {},
   "outputs": [],
   "source": [
    "from tensorflow.keras.models import Sequential\n",
    "from tensorflow.keras.layers import Dense\n",
    "from tensorflow.keras.optimizers import Adam\n",
    "from tensorflow.keras.callbacks import EarlyStopping"
   ]
  },
  {
   "cell_type": "code",
   "execution_count": 48,
   "id": "b3bdfe0e-7b24-43c1-abb8-7c4c6fb9b023",
   "metadata": {},
   "outputs": [
    {
     "name": "stderr",
     "output_type": "stream",
     "text": [
      "C:\\Users\\BABITA\\AppData\\Local\\Packages\\PythonSoftwareFoundation.Python.3.12_qbz5n2kfra8p0\\LocalCache\\local-packages\\Python312\\site-packages\\keras\\src\\layers\\core\\dense.py:92: UserWarning: Do not pass an `input_shape`/`input_dim` argument to a layer. When using Sequential models, prefer using an `Input(shape)` object as the first layer in the model instead.\n",
      "  super().__init__(activity_regularizer=activity_regularizer, **kwargs)\n"
     ]
    },
    {
     "data": {
      "text/html": [
       "<pre style=\"white-space:pre;overflow-x:auto;line-height:normal;font-family:Menlo,'DejaVu Sans Mono',consolas,'Courier New',monospace\"><span style=\"font-weight: bold\">Model: \"sequential_1\"</span>\n",
       "</pre>\n"
      ],
      "text/plain": [
       "\u001b[1mModel: \"sequential_1\"\u001b[0m\n"
      ]
     },
     "metadata": {},
     "output_type": "display_data"
    },
    {
     "data": {
      "text/html": [
       "<pre style=\"white-space:pre;overflow-x:auto;line-height:normal;font-family:Menlo,'DejaVu Sans Mono',consolas,'Courier New',monospace\">┏━━━━━━━━━━━━━━━━━━━━━━━━━━━━━━━━━┳━━━━━━━━━━━━━━━━━━━━━━━━┳━━━━━━━━━━━━━━━┓\n",
       "┃<span style=\"font-weight: bold\"> Layer (type)                    </span>┃<span style=\"font-weight: bold\"> Output Shape           </span>┃<span style=\"font-weight: bold\">       Param # </span>┃\n",
       "┡━━━━━━━━━━━━━━━━━━━━━━━━━━━━━━━━━╇━━━━━━━━━━━━━━━━━━━━━━━━╇━━━━━━━━━━━━━━━┩\n",
       "│ dense_3 (<span style=\"color: #0087ff; text-decoration-color: #0087ff\">Dense</span>)                 │ (<span style=\"color: #00d7ff; text-decoration-color: #00d7ff\">None</span>, <span style=\"color: #00af00; text-decoration-color: #00af00\">64</span>)             │           <span style=\"color: #00af00; text-decoration-color: #00af00\">576</span> │\n",
       "├─────────────────────────────────┼────────────────────────┼───────────────┤\n",
       "│ dense_4 (<span style=\"color: #0087ff; text-decoration-color: #0087ff\">Dense</span>)                 │ (<span style=\"color: #00d7ff; text-decoration-color: #00d7ff\">None</span>, <span style=\"color: #00af00; text-decoration-color: #00af00\">32</span>)             │         <span style=\"color: #00af00; text-decoration-color: #00af00\">2,080</span> │\n",
       "├─────────────────────────────────┼────────────────────────┼───────────────┤\n",
       "│ dense_5 (<span style=\"color: #0087ff; text-decoration-color: #0087ff\">Dense</span>)                 │ (<span style=\"color: #00d7ff; text-decoration-color: #00d7ff\">None</span>, <span style=\"color: #00af00; text-decoration-color: #00af00\">1</span>)              │            <span style=\"color: #00af00; text-decoration-color: #00af00\">33</span> │\n",
       "└─────────────────────────────────┴────────────────────────┴───────────────┘\n",
       "</pre>\n"
      ],
      "text/plain": [
       "┏━━━━━━━━━━━━━━━━━━━━━━━━━━━━━━━━━┳━━━━━━━━━━━━━━━━━━━━━━━━┳━━━━━━━━━━━━━━━┓\n",
       "┃\u001b[1m \u001b[0m\u001b[1mLayer (type)                   \u001b[0m\u001b[1m \u001b[0m┃\u001b[1m \u001b[0m\u001b[1mOutput Shape          \u001b[0m\u001b[1m \u001b[0m┃\u001b[1m \u001b[0m\u001b[1m      Param #\u001b[0m\u001b[1m \u001b[0m┃\n",
       "┡━━━━━━━━━━━━━━━━━━━━━━━━━━━━━━━━━╇━━━━━━━━━━━━━━━━━━━━━━━━╇━━━━━━━━━━━━━━━┩\n",
       "│ dense_3 (\u001b[38;5;33mDense\u001b[0m)                 │ (\u001b[38;5;45mNone\u001b[0m, \u001b[38;5;34m64\u001b[0m)             │           \u001b[38;5;34m576\u001b[0m │\n",
       "├─────────────────────────────────┼────────────────────────┼───────────────┤\n",
       "│ dense_4 (\u001b[38;5;33mDense\u001b[0m)                 │ (\u001b[38;5;45mNone\u001b[0m, \u001b[38;5;34m32\u001b[0m)             │         \u001b[38;5;34m2,080\u001b[0m │\n",
       "├─────────────────────────────────┼────────────────────────┼───────────────┤\n",
       "│ dense_5 (\u001b[38;5;33mDense\u001b[0m)                 │ (\u001b[38;5;45mNone\u001b[0m, \u001b[38;5;34m1\u001b[0m)              │            \u001b[38;5;34m33\u001b[0m │\n",
       "└─────────────────────────────────┴────────────────────────┴───────────────┘\n"
      ]
     },
     "metadata": {},
     "output_type": "display_data"
    },
    {
     "data": {
      "text/html": [
       "<pre style=\"white-space:pre;overflow-x:auto;line-height:normal;font-family:Menlo,'DejaVu Sans Mono',consolas,'Courier New',monospace\"><span style=\"font-weight: bold\"> Total params: </span><span style=\"color: #00af00; text-decoration-color: #00af00\">2,689</span> (10.50 KB)\n",
       "</pre>\n"
      ],
      "text/plain": [
       "\u001b[1m Total params: \u001b[0m\u001b[38;5;34m2,689\u001b[0m (10.50 KB)\n"
      ]
     },
     "metadata": {},
     "output_type": "display_data"
    },
    {
     "data": {
      "text/html": [
       "<pre style=\"white-space:pre;overflow-x:auto;line-height:normal;font-family:Menlo,'DejaVu Sans Mono',consolas,'Courier New',monospace\"><span style=\"font-weight: bold\"> Trainable params: </span><span style=\"color: #00af00; text-decoration-color: #00af00\">2,689</span> (10.50 KB)\n",
       "</pre>\n"
      ],
      "text/plain": [
       "\u001b[1m Trainable params: \u001b[0m\u001b[38;5;34m2,689\u001b[0m (10.50 KB)\n"
      ]
     },
     "metadata": {},
     "output_type": "display_data"
    },
    {
     "data": {
      "text/html": [
       "<pre style=\"white-space:pre;overflow-x:auto;line-height:normal;font-family:Menlo,'DejaVu Sans Mono',consolas,'Courier New',monospace\"><span style=\"font-weight: bold\"> Non-trainable params: </span><span style=\"color: #00af00; text-decoration-color: #00af00\">0</span> (0.00 B)\n",
       "</pre>\n"
      ],
      "text/plain": [
       "\u001b[1m Non-trainable params: \u001b[0m\u001b[38;5;34m0\u001b[0m (0.00 B)\n"
      ]
     },
     "metadata": {},
     "output_type": "display_data"
    }
   ],
   "source": [
    "model = Sequential()\n",
    "# Input layers,1st layer,2nd layer and outputlayer\n",
    "model.add(Dense(64, input_shape=(X_train.shape[1],), activation='relu'))\n",
    "model.add(Dense(32, activation='relu')) \n",
    "model.add(Dense(1, activation='sigmoid'))\n",
    "\n",
    "# Compiling the model\n",
    "model.compile(optimizer=Adam(learning_rate=0.001), loss='binary_crossentropy', metrics=['accuracy'])\n",
    "model.summary()"
   ]
  },
  {
   "cell_type": "code",
   "execution_count": 49,
   "id": "6a8a5470-b58a-4113-9651-e093c6637454",
   "metadata": {},
   "outputs": [
    {
     "name": "stdout",
     "output_type": "stream",
     "text": [
      "Epoch 1/50\n",
      "\u001b[1m202/202\u001b[0m \u001b[32m━━━━━━━━━━━━━━━━━━━━\u001b[0m\u001b[37m\u001b[0m \u001b[1m3s\u001b[0m 5ms/step - accuracy: 0.9392 - loss: 0.2926 - val_accuracy: 0.9660 - val_loss: 0.1126\n",
      "Epoch 2/50\n",
      "\u001b[1m202/202\u001b[0m \u001b[32m━━━━━━━━━━━━━━━━━━━━\u001b[0m\u001b[37m\u001b[0m \u001b[1m1s\u001b[0m 4ms/step - accuracy: 0.9640 - loss: 0.1159 - val_accuracy: 0.9660 - val_loss: 0.1026\n",
      "Epoch 3/50\n",
      "\u001b[1m202/202\u001b[0m \u001b[32m━━━━━━━━━━━━━━━━━━━━\u001b[0m\u001b[37m\u001b[0m \u001b[1m1s\u001b[0m 4ms/step - accuracy: 0.9640 - loss: 0.1113 - val_accuracy: 0.9660 - val_loss: 0.0984\n",
      "Epoch 4/50\n",
      "\u001b[1m202/202\u001b[0m \u001b[32m━━━━━━━━━━━━━━━━━━━━\u001b[0m\u001b[37m\u001b[0m \u001b[1m1s\u001b[0m 5ms/step - accuracy: 0.9640 - loss: 0.1085 - val_accuracy: 0.9660 - val_loss: 0.0963\n",
      "Epoch 5/50\n",
      "\u001b[1m202/202\u001b[0m \u001b[32m━━━━━━━━━━━━━━━━━━━━\u001b[0m\u001b[37m\u001b[0m \u001b[1m1s\u001b[0m 5ms/step - accuracy: 0.9640 - loss: 0.1061 - val_accuracy: 0.9660 - val_loss: 0.0943\n",
      "Epoch 6/50\n",
      "\u001b[1m202/202\u001b[0m \u001b[32m━━━━━━━━━━━━━━━━━━━━\u001b[0m\u001b[37m\u001b[0m \u001b[1m1s\u001b[0m 4ms/step - accuracy: 0.9640 - loss: 0.1047 - val_accuracy: 0.9660 - val_loss: 0.0896\n",
      "Epoch 7/50\n",
      "\u001b[1m202/202\u001b[0m \u001b[32m━━━━━━━━━━━━━━━━━━━━\u001b[0m\u001b[37m\u001b[0m \u001b[1m1s\u001b[0m 4ms/step - accuracy: 0.9640 - loss: 0.1024 - val_accuracy: 0.9660 - val_loss: 0.0911\n",
      "Epoch 8/50\n",
      "\u001b[1m202/202\u001b[0m \u001b[32m━━━━━━━━━━━━━━━━━━━━\u001b[0m\u001b[37m\u001b[0m \u001b[1m1s\u001b[0m 4ms/step - accuracy: 0.9640 - loss: 0.1010 - val_accuracy: 0.9660 - val_loss: 0.0875\n",
      "Epoch 9/50\n",
      "\u001b[1m202/202\u001b[0m \u001b[32m━━━━━━━━━━━━━━━━━━━━\u001b[0m\u001b[37m\u001b[0m \u001b[1m1s\u001b[0m 4ms/step - accuracy: 0.9643 - loss: 0.1000 - val_accuracy: 0.9660 - val_loss: 0.0838\n",
      "Epoch 10/50\n",
      "\u001b[1m202/202\u001b[0m \u001b[32m━━━━━━━━━━━━━━━━━━━━\u001b[0m\u001b[37m\u001b[0m \u001b[1m1s\u001b[0m 4ms/step - accuracy: 0.9639 - loss: 0.0985 - val_accuracy: 0.9660 - val_loss: 0.0823\n",
      "Epoch 11/50\n",
      "\u001b[1m202/202\u001b[0m \u001b[32m━━━━━━━━━━━━━━━━━━━━\u001b[0m\u001b[37m\u001b[0m \u001b[1m1s\u001b[0m 4ms/step - accuracy: 0.9643 - loss: 0.0978 - val_accuracy: 0.9675 - val_loss: 0.0814\n",
      "Epoch 12/50\n",
      "\u001b[1m202/202\u001b[0m \u001b[32m━━━━━━━━━━━━━━━━━━━━\u001b[0m\u001b[37m\u001b[0m \u001b[1m1s\u001b[0m 4ms/step - accuracy: 0.9646 - loss: 0.0961 - val_accuracy: 0.9740 - val_loss: 0.0892\n",
      "Epoch 13/50\n",
      "\u001b[1m202/202\u001b[0m \u001b[32m━━━━━━━━━━━━━━━━━━━━\u001b[0m\u001b[37m\u001b[0m \u001b[1m1s\u001b[0m 4ms/step - accuracy: 0.9643 - loss: 0.0953 - val_accuracy: 0.9725 - val_loss: 0.0845\n",
      "Epoch 14/50\n",
      "\u001b[1m202/202\u001b[0m \u001b[32m━━━━━━━━━━━━━━━━━━━━\u001b[0m\u001b[37m\u001b[0m \u001b[1m1s\u001b[0m 3ms/step - accuracy: 0.9648 - loss: 0.0941 - val_accuracy: 0.9675 - val_loss: 0.0816\n",
      "Epoch 15/50\n",
      "\u001b[1m202/202\u001b[0m \u001b[32m━━━━━━━━━━━━━━━━━━━━\u001b[0m\u001b[37m\u001b[0m \u001b[1m1s\u001b[0m 3ms/step - accuracy: 0.9646 - loss: 0.0946 - val_accuracy: 0.9675 - val_loss: 0.0834\n",
      "Epoch 16/50\n",
      "\u001b[1m202/202\u001b[0m \u001b[32m━━━━━━━━━━━━━━━━━━━━\u001b[0m\u001b[37m\u001b[0m \u001b[1m1s\u001b[0m 3ms/step - accuracy: 0.9645 - loss: 0.0948 - val_accuracy: 0.9711 - val_loss: 0.0757\n",
      "Epoch 17/50\n",
      "\u001b[1m202/202\u001b[0m \u001b[32m━━━━━━━━━━━━━━━━━━━━\u001b[0m\u001b[37m\u001b[0m \u001b[1m1s\u001b[0m 4ms/step - accuracy: 0.9645 - loss: 0.0940 - val_accuracy: 0.9718 - val_loss: 0.0748\n",
      "Epoch 18/50\n",
      "\u001b[1m202/202\u001b[0m \u001b[32m━━━━━━━━━━━━━━━━━━━━\u001b[0m\u001b[37m\u001b[0m \u001b[1m1s\u001b[0m 4ms/step - accuracy: 0.9657 - loss: 0.0921 - val_accuracy: 0.9718 - val_loss: 0.0751\n",
      "Epoch 19/50\n",
      "\u001b[1m202/202\u001b[0m \u001b[32m━━━━━━━━━━━━━━━━━━━━\u001b[0m\u001b[37m\u001b[0m \u001b[1m1s\u001b[0m 4ms/step - accuracy: 0.9665 - loss: 0.0911 - val_accuracy: 0.9711 - val_loss: 0.0741\n",
      "Epoch 20/50\n",
      "\u001b[1m202/202\u001b[0m \u001b[32m━━━━━━━━━━━━━━━━━━━━\u001b[0m\u001b[37m\u001b[0m \u001b[1m1s\u001b[0m 3ms/step - accuracy: 0.9667 - loss: 0.0905 - val_accuracy: 0.9740 - val_loss: 0.0737\n",
      "Epoch 21/50\n",
      "\u001b[1m202/202\u001b[0m \u001b[32m━━━━━━━━━━━━━━━━━━━━\u001b[0m\u001b[37m\u001b[0m \u001b[1m1s\u001b[0m 3ms/step - accuracy: 0.9670 - loss: 0.0893 - val_accuracy: 0.9740 - val_loss: 0.0711\n",
      "Epoch 22/50\n",
      "\u001b[1m202/202\u001b[0m \u001b[32m━━━━━━━━━━━━━━━━━━━━\u001b[0m\u001b[37m\u001b[0m \u001b[1m1s\u001b[0m 4ms/step - accuracy: 0.9676 - loss: 0.0876 - val_accuracy: 0.9754 - val_loss: 0.0749\n",
      "Epoch 23/50\n",
      "\u001b[1m202/202\u001b[0m \u001b[32m━━━━━━━━━━━━━━━━━━━━\u001b[0m\u001b[37m\u001b[0m \u001b[1m1s\u001b[0m 3ms/step - accuracy: 0.9676 - loss: 0.0874 - val_accuracy: 0.9754 - val_loss: 0.0715\n",
      "Epoch 24/50\n",
      "\u001b[1m202/202\u001b[0m \u001b[32m━━━━━━━━━━━━━━━━━━━━\u001b[0m\u001b[37m\u001b[0m \u001b[1m1s\u001b[0m 3ms/step - accuracy: 0.9682 - loss: 0.0868 - val_accuracy: 0.9732 - val_loss: 0.0677\n",
      "Epoch 25/50\n",
      "\u001b[1m202/202\u001b[0m \u001b[32m━━━━━━━━━━━━━━━━━━━━\u001b[0m\u001b[37m\u001b[0m \u001b[1m1s\u001b[0m 3ms/step - accuracy: 0.9682 - loss: 0.0848 - val_accuracy: 0.9747 - val_loss: 0.0671\n",
      "Epoch 26/50\n",
      "\u001b[1m202/202\u001b[0m \u001b[32m━━━━━━━━━━━━━━━━━━━━\u001b[0m\u001b[37m\u001b[0m \u001b[1m1s\u001b[0m 3ms/step - accuracy: 0.9694 - loss: 0.0841 - val_accuracy: 0.9747 - val_loss: 0.0652\n",
      "Epoch 27/50\n",
      "\u001b[1m202/202\u001b[0m \u001b[32m━━━━━━━━━━━━━━━━━━━━\u001b[0m\u001b[37m\u001b[0m \u001b[1m1s\u001b[0m 3ms/step - accuracy: 0.9705 - loss: 0.0851 - val_accuracy: 0.9761 - val_loss: 0.0648\n",
      "Epoch 28/50\n",
      "\u001b[1m202/202\u001b[0m \u001b[32m━━━━━━━━━━━━━━━━━━━━\u001b[0m\u001b[37m\u001b[0m \u001b[1m1s\u001b[0m 3ms/step - accuracy: 0.9694 - loss: 0.0838 - val_accuracy: 0.9747 - val_loss: 0.0634\n",
      "Epoch 29/50\n",
      "\u001b[1m202/202\u001b[0m \u001b[32m━━━━━━━━━━━━━━━━━━━━\u001b[0m\u001b[37m\u001b[0m \u001b[1m1s\u001b[0m 4ms/step - accuracy: 0.9704 - loss: 0.0806 - val_accuracy: 0.9769 - val_loss: 0.0645\n",
      "Epoch 30/50\n",
      "\u001b[1m202/202\u001b[0m \u001b[32m━━━━━━━━━━━━━━━━━━━━\u001b[0m\u001b[37m\u001b[0m \u001b[1m1s\u001b[0m 4ms/step - accuracy: 0.9713 - loss: 0.0779 - val_accuracy: 0.9747 - val_loss: 0.0617\n",
      "Epoch 31/50\n",
      "\u001b[1m202/202\u001b[0m \u001b[32m━━━━━━━━━━━━━━━━━━━━\u001b[0m\u001b[37m\u001b[0m \u001b[1m1s\u001b[0m 4ms/step - accuracy: 0.9719 - loss: 0.0770 - val_accuracy: 0.9754 - val_loss: 0.0603\n",
      "Epoch 32/50\n",
      "\u001b[1m202/202\u001b[0m \u001b[32m━━━━━━━━━━━━━━━━━━━━\u001b[0m\u001b[37m\u001b[0m \u001b[1m1s\u001b[0m 4ms/step - accuracy: 0.9724 - loss: 0.0769 - val_accuracy: 0.9769 - val_loss: 0.0590\n",
      "Epoch 33/50\n",
      "\u001b[1m202/202\u001b[0m \u001b[32m━━━━━━━━━━━━━━━━━━━━\u001b[0m\u001b[37m\u001b[0m \u001b[1m1s\u001b[0m 3ms/step - accuracy: 0.9730 - loss: 0.0763 - val_accuracy: 0.9769 - val_loss: 0.0575\n",
      "Epoch 34/50\n",
      "\u001b[1m202/202\u001b[0m \u001b[32m━━━━━━━━━━━━━━━━━━━━\u001b[0m\u001b[37m\u001b[0m \u001b[1m1s\u001b[0m 3ms/step - accuracy: 0.9725 - loss: 0.0757 - val_accuracy: 0.9761 - val_loss: 0.0592\n",
      "Epoch 35/50\n",
      "\u001b[1m202/202\u001b[0m \u001b[32m━━━━━━━━━━━━━━━━━━━━\u001b[0m\u001b[37m\u001b[0m \u001b[1m1s\u001b[0m 3ms/step - accuracy: 0.9738 - loss: 0.0731 - val_accuracy: 0.9790 - val_loss: 0.0555\n",
      "Epoch 36/50\n",
      "\u001b[1m202/202\u001b[0m \u001b[32m━━━━━━━━━━━━━━━━━━━━\u001b[0m\u001b[37m\u001b[0m \u001b[1m1s\u001b[0m 3ms/step - accuracy: 0.9739 - loss: 0.0732 - val_accuracy: 0.9812 - val_loss: 0.0543\n",
      "Epoch 37/50\n",
      "\u001b[1m202/202\u001b[0m \u001b[32m━━━━━━━━━━━━━━━━━━━━\u001b[0m\u001b[37m\u001b[0m \u001b[1m1s\u001b[0m 3ms/step - accuracy: 0.9749 - loss: 0.0724 - val_accuracy: 0.9812 - val_loss: 0.0542\n",
      "Epoch 38/50\n",
      "\u001b[1m202/202\u001b[0m \u001b[32m━━━━━━━━━━━━━━━━━━━━\u001b[0m\u001b[37m\u001b[0m \u001b[1m1s\u001b[0m 3ms/step - accuracy: 0.9761 - loss: 0.0690 - val_accuracy: 0.9819 - val_loss: 0.0529\n",
      "Epoch 39/50\n",
      "\u001b[1m202/202\u001b[0m \u001b[32m━━━━━━━━━━━━━━━━━━━━\u001b[0m\u001b[37m\u001b[0m \u001b[1m1s\u001b[0m 3ms/step - accuracy: 0.9755 - loss: 0.0689 - val_accuracy: 0.9812 - val_loss: 0.0519\n",
      "Epoch 40/50\n",
      "\u001b[1m202/202\u001b[0m \u001b[32m━━━━━━━━━━━━━━━━━━━━\u001b[0m\u001b[37m\u001b[0m \u001b[1m1s\u001b[0m 3ms/step - accuracy: 0.9757 - loss: 0.0690 - val_accuracy: 0.9826 - val_loss: 0.0508\n",
      "Epoch 41/50\n",
      "\u001b[1m202/202\u001b[0m \u001b[32m━━━━━━━━━━━━━━━━━━━━\u001b[0m\u001b[37m\u001b[0m \u001b[1m1s\u001b[0m 3ms/step - accuracy: 0.9761 - loss: 0.0677 - val_accuracy: 0.9834 - val_loss: 0.0529\n",
      "Epoch 42/50\n",
      "\u001b[1m202/202\u001b[0m \u001b[32m━━━━━━━━━━━━━━━━━━━━\u001b[0m\u001b[37m\u001b[0m \u001b[1m1s\u001b[0m 4ms/step - accuracy: 0.9763 - loss: 0.0658 - val_accuracy: 0.9826 - val_loss: 0.0484\n",
      "Epoch 43/50\n",
      "\u001b[1m202/202\u001b[0m \u001b[32m━━━━━━━━━━━━━━━━━━━━\u001b[0m\u001b[37m\u001b[0m \u001b[1m1s\u001b[0m 3ms/step - accuracy: 0.9774 - loss: 0.0633 - val_accuracy: 0.9826 - val_loss: 0.0469\n",
      "Epoch 44/50\n",
      "\u001b[1m202/202\u001b[0m \u001b[32m━━━━━━━━━━━━━━━━━━━━\u001b[0m\u001b[37m\u001b[0m \u001b[1m1s\u001b[0m 4ms/step - accuracy: 0.9778 - loss: 0.0637 - val_accuracy: 0.9826 - val_loss: 0.0463\n",
      "Epoch 45/50\n",
      "\u001b[1m202/202\u001b[0m \u001b[32m━━━━━━━━━━━━━━━━━━━━\u001b[0m\u001b[37m\u001b[0m \u001b[1m1s\u001b[0m 4ms/step - accuracy: 0.9788 - loss: 0.0635 - val_accuracy: 0.9870 - val_loss: 0.0503\n",
      "Epoch 46/50\n",
      "\u001b[1m202/202\u001b[0m \u001b[32m━━━━━━━━━━━━━━━━━━━━\u001b[0m\u001b[37m\u001b[0m \u001b[1m1s\u001b[0m 3ms/step - accuracy: 0.9786 - loss: 0.0600 - val_accuracy: 0.9826 - val_loss: 0.0448\n",
      "Epoch 47/50\n",
      "\u001b[1m202/202\u001b[0m \u001b[32m━━━━━━━━━━━━━━━━━━━━\u001b[0m\u001b[37m\u001b[0m \u001b[1m1s\u001b[0m 3ms/step - accuracy: 0.9788 - loss: 0.0608 - val_accuracy: 0.9834 - val_loss: 0.0439\n",
      "Epoch 48/50\n",
      "\u001b[1m202/202\u001b[0m \u001b[32m━━━━━━━━━━━━━━━━━━━━\u001b[0m\u001b[37m\u001b[0m \u001b[1m1s\u001b[0m 3ms/step - accuracy: 0.9791 - loss: 0.0599 - val_accuracy: 0.9834 - val_loss: 0.0430\n",
      "Epoch 49/50\n",
      "\u001b[1m202/202\u001b[0m \u001b[32m━━━━━━━━━━━━━━━━━━━━\u001b[0m\u001b[37m\u001b[0m \u001b[1m1s\u001b[0m 3ms/step - accuracy: 0.9809 - loss: 0.0570 - val_accuracy: 0.9855 - val_loss: 0.0439\n",
      "Epoch 50/50\n",
      "\u001b[1m202/202\u001b[0m \u001b[32m━━━━━━━━━━━━━━━━━━━━\u001b[0m\u001b[37m\u001b[0m \u001b[1m1s\u001b[0m 3ms/step - accuracy: 0.9805 - loss: 0.0569 - val_accuracy: 0.9855 - val_loss: 0.0424\n"
     ]
    }
   ],
   "source": [
    "early_stop= EarlyStopping(\n",
    "    monitor='val_loss',    \n",
    "    patience=5,            \n",
    "    restore_best_weights=True  \n",
    ")\n",
    "history = model.fit(\n",
    "    X_train, y_train,\n",
    "    validation_data=(X_val, y_val),\n",
    "    epochs=50,             \n",
    "    batch_size=32,         \n",
    "    callbacks=[early_stop], \n",
    "    verbose=1       \n",
    ")"
   ]
  },
  {
   "cell_type": "code",
   "execution_count": 50,
   "id": "0078f026-7cb7-46b8-b5b4-a5b8f4238439",
   "metadata": {},
   "outputs": [
    {
     "name": "stdout",
     "output_type": "stream",
     "text": [
      "Final Validation Accuracy: 0.9869847893714905\n"
     ]
    }
   ],
   "source": [
    "final_val_accuracy = max(history.history['val_accuracy'])\n",
    "print(\"Final Validation Accuracy:\", final_val_accuracy)\n"
   ]
  },
  {
   "cell_type": "code",
   "execution_count": 55,
   "id": "a6e9d63f-df15-4091-813d-44b629fc61ed",
   "metadata": {},
   "outputs": [
    {
     "name": "stdout",
     "output_type": "stream",
     "text": [
      "Select transaction type:\n",
      "0: CASH_OUT\n",
      "1: CASH_IN\n",
      "2: DEBIT\n",
      "3: PAYMENT\n",
      "4: TRANSFER\n",
      "Transaction amount: 500.0\n",
      "Old balance: 600.0\n",
      "New balance: 200.0\n",
      "The transaction is: Fraud\n"
     ]
    }
   ],
   "source": [
    "# To define transaction types\n",
    "transaction_types = {\n",
    "    0: \"CASH_OUT\",\n",
    "    1: \"CASH_IN\",\n",
    "    2: \"DEBIT\",\n",
    "    3: \"PAYMENT\",\n",
    "    4: \"TRANSFER\"\n",
    "}\n",
    "\n",
    "def is_fraud(amount, oldbalanceOrg, newbalanceOrig, transaction_type):\n",
    "    type_CASH_OUT = 1 if transaction_type == 0 else 0\n",
    "    type_CASH_IN = 1 if transaction_type == 1 else 0\n",
    "    type_DEBIT = 1 if transaction_type == 2 else 0\n",
    "    type_PAYMENT = 1 if transaction_type == 3 else 0\n",
    "    type_TRANSFER = 1 if transaction_type == 4 else 0\n",
    "\n",
    "    if type_CASH_OUT and (amount > 10000 and newbalanceOrig == 0 or newbalanceOrig != oldbalanceOrg - amount):\n",
    "        return \"Fraud\"\n",
    "    elif type_TRANSFER and (amount > 5000 or newbalanceOrig < oldbalanceOrg * 0.5 or newbalanceOrig == 0):\n",
    "        return \"Fraud\"\n",
    "    elif type_DEBIT and amount > oldbalanceOrg:\n",
    "        return \"Fraud\"\n",
    "    elif type_PAYMENT and newbalanceOrig < 0:\n",
    "        return \"Fraud\"\n",
    "    elif type_CASH_IN and amount > 15000 and newbalanceOrig > oldbalanceOrg:\n",
    "        return \"Fraud\"\n",
    "    else:\n",
    "        return \"Not Fraud\"\n",
    "\n",
    "\n",
    "# inputs\n",
    "print(\"Select transaction type:\")\n",
    "for code, t_type in transaction_types.items():\n",
    "    print(f\"{code}: {t_type}\")\n",
    "    \n",
    "transaction_type = int(input(\"Enter the transaction type code (0-CASH_OUT, 1-CASH_IN, 2-DEBIT, 3-PAYMENT, 4-TRANSFER): \"))\n",
    "amount = float(input(\"Enter transaction amount: \"))\n",
    "print(f\"Transaction amount: {amount}\")\n",
    "oldbalanceOrg = float(input(\"Enter old balance: \"))\n",
    "print(f\"Old balance: {oldbalanceOrg}\")\n",
    "newbalanceOrig = float(input(\"Enter new balance: \"))\n",
    "print(f\"New balance: {newbalanceOrig}\")\n",
    "\n",
    "# output\n",
    "result = is_fraud(amount, oldbalanceOrg, newbalanceOrig, transaction_type)\n",
    "print(f\"The transaction is: {result}\")"
   ]
  }
 ],
 "metadata": {
  "kernelspec": {
   "display_name": "Python 3",
   "language": "python",
   "name": "python3"
  },
  "language_info": {
   "codemirror_mode": {
    "name": "ipython",
    "version": 3
   },
   "file_extension": ".py",
   "mimetype": "text/x-python",
   "name": "python",
   "nbconvert_exporter": "python",
   "pygments_lexer": "ipython3",
   "version": "3.12.10"
  }
 },
 "nbformat": 4,
 "nbformat_minor": 5
}
